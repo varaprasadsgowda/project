{
 "cells": [
  {
   "cell_type": "code",
   "execution_count": 47,
   "metadata": {},
   "outputs": [],
   "source": [
    "import pandas as pd\n",
    "from sklearn import preprocessing\n",
    "from sklearn.model_selection import train_test_split\n",
    "import numpy as np\n",
    "import matplotlib.pyplot as plt\n"
   ]
  },
  {
   "cell_type": "code",
   "execution_count": 31,
   "metadata": {},
   "outputs": [
    {
     "name": "stdout",
     "output_type": "stream",
     "text": [
      "<bound method NDFrame.describe of       LotArea  OverallQual  OverallCond  TotalBsmtSF  FullBath  HalfBath  \\\n",
      "0        8450            7            5          856         2         1   \n",
      "1        9600            6            8         1262         2         0   \n",
      "2       11250            7            5          920         2         1   \n",
      "3        9550            7            5          756         1         0   \n",
      "4       14260            8            5         1145         2         1   \n",
      "...       ...          ...          ...          ...       ...       ...   \n",
      "1455     7917            6            5          953         2         1   \n",
      "1456    13175            6            6         1542         2         0   \n",
      "1457     9042            7            9         1152         2         0   \n",
      "1458     9717            5            6         1078         1         0   \n",
      "1459     9937            5            6         1256         1         1   \n",
      "\n",
      "      BedroomAbvGr  TotRmsAbvGrd  Fireplaces  GarageArea  AboveMedianPrice  \n",
      "0                3             8           0         548                 1  \n",
      "1                3             6           1         460                 1  \n",
      "2                3             6           1         608                 1  \n",
      "3                3             7           1         642                 0  \n",
      "4                4             9           1         836                 1  \n",
      "...            ...           ...         ...         ...               ...  \n",
      "1455             3             7           1         460                 1  \n",
      "1456             3             7           2         500                 1  \n",
      "1457             4             9           2         252                 1  \n",
      "1458             2             5           0         240                 0  \n",
      "1459             3             6           0         276                 0  \n",
      "\n",
      "[1460 rows x 11 columns]>\n"
     ]
    }
   ],
   "source": [
    "df = pd.read_csv(\"housepricedata.csv\")\n",
    "\n",
    "print(df.describe)\n",
    "\n",
    "dataset = df.values\n",
    "\n",
    "\n",
    "X = dataset[:,0:10]\n",
    "Y = dataset[:,10]\n",
    "\n"
   ]
  },
  {
   "cell_type": "code",
   "execution_count": 4,
   "metadata": {},
   "outputs": [],
   "source": [
    "min_max_scaler = preprocessing.MinMaxScaler()\n",
    "from sklearn.preprocessing import MinMaxScaler\n",
    "\n",
    "X_scale = min_max_scaler.fit_transform(X)\n",
    "X_train, X_val_and_test, Y_train, Y_val_and_test = train_test_split(X_scale, Y, test_size=0.3)\n",
    "X_val, X_test, Y_val, Y_test = train_test_split(X_val_and_test, Y_val_and_test, test_size=0.5)\n",
    "\n",
    "\n"
   ]
  },
  {
   "cell_type": "code",
   "execution_count": 5,
   "metadata": {},
   "outputs": [
    {
     "name": "stderr",
     "output_type": "stream",
     "text": [
      "2022-06-10 11:42:23.423089: W tensorflow/stream_executor/platform/default/dso_loader.cc:64] Could not load dynamic library 'libcudart.so.11.0'; dlerror: libcudart.so.11.0: cannot open shared object file: No such file or directory\n",
      "2022-06-10 11:42:23.423146: I tensorflow/stream_executor/cuda/cudart_stub.cc:29] Ignore above cudart dlerror if you do not have a GPU set up on your machine.\n"
     ]
    }
   ],
   "source": [
    "from keras.models import Sequential\n",
    "from keras.layers import Dense\n",
    "from keras.layers import Dropout\n",
    "from keras import regularizers\n"
   ]
  },
  {
   "cell_type": "code",
   "execution_count": 51,
   "metadata": {},
   "outputs": [],
   "source": [
    "model = Sequential([\n",
    "    Dense(32, activation='relu', input_shape=(10,)),\n",
    "    Dense(32, activation='relu'),\n",
    "    Dense(16, activation='relu'),\n",
    "    Dense(1, activation='sigmoid'),\n",
    "])"
   ]
  },
  {
   "cell_type": "code",
   "execution_count": 52,
   "metadata": {},
   "outputs": [],
   "source": [
    "model.compile(optimizer='sgd',\n",
    "              loss='binary_crossentropy',\n",
    "              metrics=['accuracy'])"
   ]
  },
  {
   "cell_type": "code",
   "execution_count": 53,
   "metadata": {},
   "outputs": [
    {
     "name": "stdout",
     "output_type": "stream",
     "text": [
      "Epoch 1/100\n",
      "32/32 [==============================] - 1s 13ms/step - loss: 0.7041 - accuracy: 0.5039 - val_loss: 0.6993 - val_accuracy: 0.5160\n",
      "Epoch 2/100\n",
      "32/32 [==============================] - 0s 4ms/step - loss: 0.6978 - accuracy: 0.5039 - val_loss: 0.6951 - val_accuracy: 0.5160\n",
      "Epoch 3/100\n",
      "32/32 [==============================] - 0s 4ms/step - loss: 0.6937 - accuracy: 0.5010 - val_loss: 0.6921 - val_accuracy: 0.5160\n",
      "Epoch 4/100\n",
      "32/32 [==============================] - 0s 3ms/step - loss: 0.6907 - accuracy: 0.5294 - val_loss: 0.6896 - val_accuracy: 0.6895\n",
      "Epoch 5/100\n",
      "32/32 [==============================] - 0s 3ms/step - loss: 0.6882 - accuracy: 0.7045 - val_loss: 0.6873 - val_accuracy: 0.7078\n",
      "Epoch 6/100\n",
      "32/32 [==============================] - 0s 3ms/step - loss: 0.6858 - accuracy: 0.7290 - val_loss: 0.6851 - val_accuracy: 0.7123\n",
      "Epoch 7/100\n",
      "32/32 [==============================] - 0s 3ms/step - loss: 0.6834 - accuracy: 0.7642 - val_loss: 0.6828 - val_accuracy: 0.7078\n",
      "Epoch 8/100\n",
      "32/32 [==============================] - 0s 4ms/step - loss: 0.6809 - accuracy: 0.7084 - val_loss: 0.6804 - val_accuracy: 0.7215\n",
      "Epoch 9/100\n",
      "32/32 [==============================] - 0s 4ms/step - loss: 0.6785 - accuracy: 0.7250 - val_loss: 0.6780 - val_accuracy: 0.7352\n",
      "Epoch 10/100\n",
      "32/32 [==============================] - 0s 5ms/step - loss: 0.6760 - accuracy: 0.7025 - val_loss: 0.6756 - val_accuracy: 0.7626\n",
      "Epoch 11/100\n",
      "32/32 [==============================] - 0s 5ms/step - loss: 0.6735 - accuracy: 0.7397 - val_loss: 0.6732 - val_accuracy: 0.7900\n",
      "Epoch 12/100\n",
      "32/32 [==============================] - 0s 5ms/step - loss: 0.6709 - accuracy: 0.7309 - val_loss: 0.6704 - val_accuracy: 0.8037\n",
      "Epoch 13/100\n",
      "32/32 [==============================] - 0s 3ms/step - loss: 0.6673 - accuracy: 0.7808 - val_loss: 0.6645 - val_accuracy: 0.8174\n",
      "Epoch 14/100\n",
      "32/32 [==============================] - 0s 3ms/step - loss: 0.6601 - accuracy: 0.8014 - val_loss: 0.6569 - val_accuracy: 0.7900\n",
      "Epoch 15/100\n",
      "32/32 [==============================] - 0s 3ms/step - loss: 0.6533 - accuracy: 0.8170 - val_loss: 0.6520 - val_accuracy: 0.7854\n",
      "Epoch 16/100\n",
      "32/32 [==============================] - 0s 3ms/step - loss: 0.6482 - accuracy: 0.8209 - val_loss: 0.6469 - val_accuracy: 0.8082\n",
      "Epoch 17/100\n",
      "32/32 [==============================] - 0s 4ms/step - loss: 0.6428 - accuracy: 0.8219 - val_loss: 0.6413 - val_accuracy: 0.8128\n",
      "Epoch 18/100\n",
      "32/32 [==============================] - 0s 5ms/step - loss: 0.6367 - accuracy: 0.8229 - val_loss: 0.6352 - val_accuracy: 0.8128\n",
      "Epoch 19/100\n",
      "32/32 [==============================] - 0s 7ms/step - loss: 0.6304 - accuracy: 0.8337 - val_loss: 0.6287 - val_accuracy: 0.8174\n",
      "Epoch 20/100\n",
      "32/32 [==============================] - 0s 4ms/step - loss: 0.6236 - accuracy: 0.8278 - val_loss: 0.6217 - val_accuracy: 0.8174\n",
      "Epoch 21/100\n",
      "32/32 [==============================] - 0s 4ms/step - loss: 0.6162 - accuracy: 0.8337 - val_loss: 0.6142 - val_accuracy: 0.8174\n",
      "Epoch 22/100\n",
      "32/32 [==============================] - 0s 4ms/step - loss: 0.6082 - accuracy: 0.8376 - val_loss: 0.6063 - val_accuracy: 0.8219\n",
      "Epoch 23/100\n",
      "32/32 [==============================] - 0s 5ms/step - loss: 0.5999 - accuracy: 0.8493 - val_loss: 0.5972 - val_accuracy: 0.8356\n",
      "Epoch 24/100\n",
      "32/32 [==============================] - 0s 4ms/step - loss: 0.5909 - accuracy: 0.8395 - val_loss: 0.5877 - val_accuracy: 0.8356\n",
      "Epoch 25/100\n",
      "32/32 [==============================] - 0s 3ms/step - loss: 0.5813 - accuracy: 0.8444 - val_loss: 0.5775 - val_accuracy: 0.8402\n",
      "Epoch 26/100\n",
      "32/32 [==============================] - 0s 3ms/step - loss: 0.5708 - accuracy: 0.8474 - val_loss: 0.5665 - val_accuracy: 0.8356\n",
      "Epoch 27/100\n",
      "32/32 [==============================] - 0s 4ms/step - loss: 0.5596 - accuracy: 0.8454 - val_loss: 0.5549 - val_accuracy: 0.8402\n",
      "Epoch 28/100\n",
      "32/32 [==============================] - 0s 3ms/step - loss: 0.5477 - accuracy: 0.8386 - val_loss: 0.5428 - val_accuracy: 0.8356\n",
      "Epoch 29/100\n",
      "32/32 [==============================] - 0s 3ms/step - loss: 0.5354 - accuracy: 0.8513 - val_loss: 0.5299 - val_accuracy: 0.8402\n",
      "Epoch 30/100\n",
      "32/32 [==============================] - 0s 4ms/step - loss: 0.5223 - accuracy: 0.8532 - val_loss: 0.5164 - val_accuracy: 0.8447\n",
      "Epoch 31/100\n",
      "32/32 [==============================] - 0s 3ms/step - loss: 0.5082 - accuracy: 0.8532 - val_loss: 0.5035 - val_accuracy: 0.8630\n",
      "Epoch 32/100\n",
      "32/32 [==============================] - 0s 3ms/step - loss: 0.4949 - accuracy: 0.8601 - val_loss: 0.4877 - val_accuracy: 0.8447\n",
      "Epoch 33/100\n",
      "32/32 [==============================] - 0s 4ms/step - loss: 0.4806 - accuracy: 0.8542 - val_loss: 0.4733 - val_accuracy: 0.8539\n",
      "Epoch 34/100\n",
      "32/32 [==============================] - 0s 3ms/step - loss: 0.4666 - accuracy: 0.8562 - val_loss: 0.4593 - val_accuracy: 0.8630\n",
      "Epoch 35/100\n",
      "32/32 [==============================] - 0s 3ms/step - loss: 0.4527 - accuracy: 0.8581 - val_loss: 0.4460 - val_accuracy: 0.8630\n",
      "Epoch 36/100\n",
      "32/32 [==============================] - 0s 3ms/step - loss: 0.4395 - accuracy: 0.8620 - val_loss: 0.4321 - val_accuracy: 0.8721\n",
      "Epoch 37/100\n",
      "32/32 [==============================] - 0s 3ms/step - loss: 0.4263 - accuracy: 0.8591 - val_loss: 0.4195 - val_accuracy: 0.8676\n",
      "Epoch 38/100\n",
      "32/32 [==============================] - 0s 3ms/step - loss: 0.4150 - accuracy: 0.8571 - val_loss: 0.4076 - val_accuracy: 0.8676\n",
      "Epoch 39/100\n",
      "32/32 [==============================] - 0s 3ms/step - loss: 0.4038 - accuracy: 0.8591 - val_loss: 0.3975 - val_accuracy: 0.8676\n",
      "Epoch 40/100\n",
      "32/32 [==============================] - 0s 3ms/step - loss: 0.3929 - accuracy: 0.8611 - val_loss: 0.3864 - val_accuracy: 0.8676\n",
      "Epoch 41/100\n",
      "32/32 [==============================] - 0s 3ms/step - loss: 0.3834 - accuracy: 0.8650 - val_loss: 0.3774 - val_accuracy: 0.8676\n",
      "Epoch 42/100\n",
      "32/32 [==============================] - 0s 4ms/step - loss: 0.3751 - accuracy: 0.8650 - val_loss: 0.3687 - val_accuracy: 0.8676\n",
      "Epoch 43/100\n",
      "32/32 [==============================] - 0s 3ms/step - loss: 0.3658 - accuracy: 0.8669 - val_loss: 0.3619 - val_accuracy: 0.8676\n",
      "Epoch 44/100\n",
      "32/32 [==============================] - 0s 3ms/step - loss: 0.3592 - accuracy: 0.8689 - val_loss: 0.3535 - val_accuracy: 0.8630\n",
      "Epoch 45/100\n",
      "32/32 [==============================] - 0s 3ms/step - loss: 0.3524 - accuracy: 0.8659 - val_loss: 0.3486 - val_accuracy: 0.8767\n",
      "Epoch 46/100\n",
      "32/32 [==============================] - 0s 3ms/step - loss: 0.3470 - accuracy: 0.8689 - val_loss: 0.3413 - val_accuracy: 0.8630\n",
      "Epoch 47/100\n",
      "32/32 [==============================] - 0s 3ms/step - loss: 0.3410 - accuracy: 0.8689 - val_loss: 0.3365 - val_accuracy: 0.8721\n",
      "Epoch 48/100\n",
      "32/32 [==============================] - 0s 3ms/step - loss: 0.3364 - accuracy: 0.8689 - val_loss: 0.3324 - val_accuracy: 0.8813\n",
      "Epoch 49/100\n",
      "32/32 [==============================] - 0s 3ms/step - loss: 0.3330 - accuracy: 0.8699 - val_loss: 0.3275 - val_accuracy: 0.8721\n",
      "Epoch 50/100\n",
      "32/32 [==============================] - 0s 4ms/step - loss: 0.3297 - accuracy: 0.8699 - val_loss: 0.3233 - val_accuracy: 0.8676\n",
      "Epoch 51/100\n",
      "32/32 [==============================] - 0s 3ms/step - loss: 0.3245 - accuracy: 0.8718 - val_loss: 0.3198 - val_accuracy: 0.8676\n",
      "Epoch 52/100\n",
      "32/32 [==============================] - 0s 3ms/step - loss: 0.3212 - accuracy: 0.8757 - val_loss: 0.3163 - val_accuracy: 0.8676\n",
      "Epoch 53/100\n",
      "32/32 [==============================] - 0s 4ms/step - loss: 0.3177 - accuracy: 0.8757 - val_loss: 0.3158 - val_accuracy: 0.8858\n",
      "Epoch 54/100\n",
      "32/32 [==============================] - 0s 4ms/step - loss: 0.3166 - accuracy: 0.8728 - val_loss: 0.3107 - val_accuracy: 0.8676\n",
      "Epoch 55/100\n",
      "32/32 [==============================] - 0s 4ms/step - loss: 0.3137 - accuracy: 0.8718 - val_loss: 0.3078 - val_accuracy: 0.8676\n",
      "Epoch 56/100\n",
      "32/32 [==============================] - 0s 3ms/step - loss: 0.3113 - accuracy: 0.8767 - val_loss: 0.3059 - val_accuracy: 0.8767\n",
      "Epoch 57/100\n",
      "32/32 [==============================] - 0s 3ms/step - loss: 0.3092 - accuracy: 0.8738 - val_loss: 0.3030 - val_accuracy: 0.8676\n",
      "Epoch 58/100\n",
      "32/32 [==============================] - 0s 4ms/step - loss: 0.3075 - accuracy: 0.8796 - val_loss: 0.3023 - val_accuracy: 0.8858\n",
      "Epoch 59/100\n",
      "32/32 [==============================] - 0s 3ms/step - loss: 0.3056 - accuracy: 0.8748 - val_loss: 0.3002 - val_accuracy: 0.8721\n",
      "Epoch 60/100\n",
      "32/32 [==============================] - 0s 3ms/step - loss: 0.3029 - accuracy: 0.8787 - val_loss: 0.2971 - val_accuracy: 0.8676\n",
      "Epoch 61/100\n",
      "32/32 [==============================] - 0s 3ms/step - loss: 0.3017 - accuracy: 0.8787 - val_loss: 0.2962 - val_accuracy: 0.8858\n",
      "Epoch 62/100\n",
      "32/32 [==============================] - 0s 3ms/step - loss: 0.3003 - accuracy: 0.8806 - val_loss: 0.2939 - val_accuracy: 0.8721\n",
      "Epoch 63/100\n",
      "32/32 [==============================] - 0s 3ms/step - loss: 0.3002 - accuracy: 0.8787 - val_loss: 0.2914 - val_accuracy: 0.8721\n",
      "Epoch 64/100\n",
      "32/32 [==============================] - 0s 4ms/step - loss: 0.2965 - accuracy: 0.8816 - val_loss: 0.2976 - val_accuracy: 0.8950\n",
      "Epoch 65/100\n",
      "32/32 [==============================] - 0s 4ms/step - loss: 0.2967 - accuracy: 0.8777 - val_loss: 0.2899 - val_accuracy: 0.8904\n",
      "Epoch 66/100\n",
      "32/32 [==============================] - 0s 3ms/step - loss: 0.2947 - accuracy: 0.8836 - val_loss: 0.2863 - val_accuracy: 0.8721\n",
      "Epoch 67/100\n",
      "32/32 [==============================] - 0s 4ms/step - loss: 0.2943 - accuracy: 0.8826 - val_loss: 0.2851 - val_accuracy: 0.8813\n",
      "Epoch 68/100\n",
      "32/32 [==============================] - 0s 3ms/step - loss: 0.2923 - accuracy: 0.8806 - val_loss: 0.2833 - val_accuracy: 0.8767\n",
      "Epoch 69/100\n",
      "32/32 [==============================] - 0s 3ms/step - loss: 0.2914 - accuracy: 0.8787 - val_loss: 0.2820 - val_accuracy: 0.8813\n",
      "Epoch 70/100\n",
      "32/32 [==============================] - 0s 3ms/step - loss: 0.2902 - accuracy: 0.8855 - val_loss: 0.2808 - val_accuracy: 0.8813\n",
      "Epoch 71/100\n",
      "32/32 [==============================] - 0s 3ms/step - loss: 0.2887 - accuracy: 0.8826 - val_loss: 0.2804 - val_accuracy: 0.8858\n",
      "Epoch 72/100\n",
      "32/32 [==============================] - 0s 3ms/step - loss: 0.2855 - accuracy: 0.8885 - val_loss: 0.2814 - val_accuracy: 0.8767\n",
      "Epoch 73/100\n",
      "32/32 [==============================] - 0s 3ms/step - loss: 0.2876 - accuracy: 0.8816 - val_loss: 0.2769 - val_accuracy: 0.8813\n",
      "Epoch 74/100\n",
      "32/32 [==============================] - 0s 3ms/step - loss: 0.2831 - accuracy: 0.8845 - val_loss: 0.2826 - val_accuracy: 0.8904\n",
      "Epoch 75/100\n",
      "32/32 [==============================] - 0s 3ms/step - loss: 0.2826 - accuracy: 0.8855 - val_loss: 0.2744 - val_accuracy: 0.8813\n",
      "Epoch 76/100\n",
      "32/32 [==============================] - 0s 3ms/step - loss: 0.2835 - accuracy: 0.8836 - val_loss: 0.2731 - val_accuracy: 0.8858\n",
      "Epoch 77/100\n",
      "32/32 [==============================] - 0s 4ms/step - loss: 0.2824 - accuracy: 0.8855 - val_loss: 0.2740 - val_accuracy: 0.8950\n",
      "Epoch 78/100\n",
      "32/32 [==============================] - 0s 3ms/step - loss: 0.2823 - accuracy: 0.8816 - val_loss: 0.2716 - val_accuracy: 0.8904\n",
      "Epoch 79/100\n",
      "32/32 [==============================] - 0s 3ms/step - loss: 0.2811 - accuracy: 0.8894 - val_loss: 0.2694 - val_accuracy: 0.8904\n",
      "Epoch 80/100\n",
      "32/32 [==============================] - 0s 3ms/step - loss: 0.2785 - accuracy: 0.8894 - val_loss: 0.2707 - val_accuracy: 0.8767\n",
      "Epoch 81/100\n",
      "32/32 [==============================] - 0s 3ms/step - loss: 0.2796 - accuracy: 0.8885 - val_loss: 0.2683 - val_accuracy: 0.8904\n",
      "Epoch 82/100\n",
      "32/32 [==============================] - 0s 4ms/step - loss: 0.2791 - accuracy: 0.8875 - val_loss: 0.2693 - val_accuracy: 0.8767\n",
      "Epoch 83/100\n",
      "32/32 [==============================] - 0s 3ms/step - loss: 0.2795 - accuracy: 0.8845 - val_loss: 0.2654 - val_accuracy: 0.8904\n",
      "Epoch 84/100\n",
      "32/32 [==============================] - 0s 3ms/step - loss: 0.2770 - accuracy: 0.8885 - val_loss: 0.2648 - val_accuracy: 0.8904\n",
      "Epoch 85/100\n",
      "32/32 [==============================] - 0s 3ms/step - loss: 0.2769 - accuracy: 0.8855 - val_loss: 0.2636 - val_accuracy: 0.8904\n",
      "Epoch 86/100\n",
      "32/32 [==============================] - 0s 3ms/step - loss: 0.2749 - accuracy: 0.8865 - val_loss: 0.2625 - val_accuracy: 0.8904\n",
      "Epoch 87/100\n",
      "32/32 [==============================] - 0s 4ms/step - loss: 0.2737 - accuracy: 0.8924 - val_loss: 0.2618 - val_accuracy: 0.8904\n",
      "Epoch 88/100\n",
      "32/32 [==============================] - 0s 4ms/step - loss: 0.2745 - accuracy: 0.8933 - val_loss: 0.2632 - val_accuracy: 0.8858\n",
      "Epoch 89/100\n",
      "32/32 [==============================] - 0s 4ms/step - loss: 0.2741 - accuracy: 0.8904 - val_loss: 0.2604 - val_accuracy: 0.8904\n",
      "Epoch 90/100\n",
      "32/32 [==============================] - 0s 3ms/step - loss: 0.2726 - accuracy: 0.8904 - val_loss: 0.2607 - val_accuracy: 0.8950\n",
      "Epoch 91/100\n",
      "32/32 [==============================] - 0s 3ms/step - loss: 0.2732 - accuracy: 0.8865 - val_loss: 0.2588 - val_accuracy: 0.8904\n",
      "Epoch 92/100\n",
      "32/32 [==============================] - 0s 4ms/step - loss: 0.2715 - accuracy: 0.8904 - val_loss: 0.2580 - val_accuracy: 0.8904\n",
      "Epoch 93/100\n",
      "32/32 [==============================] - 0s 4ms/step - loss: 0.2707 - accuracy: 0.8924 - val_loss: 0.2575 - val_accuracy: 0.8950\n",
      "Epoch 94/100\n",
      "32/32 [==============================] - 0s 3ms/step - loss: 0.2700 - accuracy: 0.8865 - val_loss: 0.2596 - val_accuracy: 0.8950\n",
      "Epoch 95/100\n",
      "32/32 [==============================] - 0s 3ms/step - loss: 0.2703 - accuracy: 0.8885 - val_loss: 0.2563 - val_accuracy: 0.8904\n",
      "Epoch 96/100\n",
      "32/32 [==============================] - 0s 3ms/step - loss: 0.2694 - accuracy: 0.8924 - val_loss: 0.2551 - val_accuracy: 0.8904\n",
      "Epoch 97/100\n",
      "32/32 [==============================] - 0s 3ms/step - loss: 0.2690 - accuracy: 0.8875 - val_loss: 0.2591 - val_accuracy: 0.8904\n",
      "Epoch 98/100\n",
      "32/32 [==============================] - 0s 3ms/step - loss: 0.2693 - accuracy: 0.8885 - val_loss: 0.2538 - val_accuracy: 0.8904\n",
      "Epoch 99/100\n",
      "32/32 [==============================] - 0s 3ms/step - loss: 0.2670 - accuracy: 0.8904 - val_loss: 0.2542 - val_accuracy: 0.8995\n",
      "Epoch 100/100\n",
      "32/32 [==============================] - 0s 3ms/step - loss: 0.2675 - accuracy: 0.8865 - val_loss: 0.2532 - val_accuracy: 0.8904\n"
     ]
    }
   ],
   "source": [
    "hist = model.fit(X_train, Y_train,\n",
    "          batch_size=32, epochs=100,\n",
    "          validation_data=(X_val, Y_val))"
   ]
  },
  {
   "cell_type": "code",
   "execution_count": 54,
   "metadata": {},
   "outputs": [
    {
     "name": "stdout",
     "output_type": "stream",
     "text": [
      "7/7 [==============================] - 0s 4ms/step - loss: 0.2607 - accuracy: 0.8950\n",
      "7/7 [==============================] - 0s 2ms/step\n",
      "Model: \"sequential_3\"\n",
      "_________________________________________________________________\n",
      " Layer (type)                Output Shape              Param #   \n",
      "=================================================================\n",
      " dense_11 (Dense)            (None, 32)                352       \n",
      "                                                                 \n",
      " dense_12 (Dense)            (None, 32)                1056      \n",
      "                                                                 \n",
      " dense_13 (Dense)            (None, 16)                528       \n",
      "                                                                 \n",
      " dense_14 (Dense)            (None, 1)                 17        \n",
      "                                                                 \n",
      "=================================================================\n",
      "Total params: 1,953\n",
      "Trainable params: 1,953\n",
      "Non-trainable params: 0\n",
      "_________________________________________________________________\n"
     ]
    }
   ],
   "source": [
    "model.evaluate(X_test, Y_test)\n",
    "\n",
    "results = model.predict(X_test)\n",
    "\n",
    "# finall_result = np.concatenate((X_test, results.T), axis=1)\n",
    "\n",
    "inverse_results = min_max_scaler.inverse_transform(X_test)\n",
    "\n",
    "model.summary()\n"
   ]
  },
  {
   "cell_type": "code",
   "execution_count": 49,
   "metadata": {},
   "outputs": [
    {
     "name": "stdout",
     "output_type": "stream",
     "text": [
      "Model: \"sequential_2\"\n",
      "_________________________________________________________________\n",
      " Layer (type)                Output Shape              Param #   \n",
      "=================================================================\n",
      " dense_8 (Dense)             (None, 32)                352       \n",
      "                                                                 \n",
      " dense_9 (Dense)             (None, 32)                1056      \n",
      "                                                                 \n",
      " dense_10 (Dense)            (None, 1)                 33        \n",
      "                                                                 \n",
      "=================================================================\n",
      "Total params: 1,441\n",
      "Trainable params: 1,441\n",
      "Non-trainable params: 0\n",
      "_________________________________________________________________\n"
     ]
    },
    {
     "data": {
      "text/plain": [
       "<keras.callbacks.History at 0x7f79cc539040>"
      ]
     },
     "execution_count": 49,
     "metadata": {},
     "output_type": "execute_result"
    }
   ],
   "source": [
    "model.summary()\n",
    "model.history"
   ]
  },
  {
   "cell_type": "code",
   "execution_count": 48,
   "metadata": {},
   "outputs": [
    {
     "data": {
      "image/png": "[encoded data removed]",
      "text/plain": [
       "<Figure size 432x288 with 1 Axes>"
      ]
     },
     "metadata": {
      "needs_background": "light"
     },
     "output_type": "display_data"
    }
   ],
   "source": [
    "plt.plot(hist.history['loss'])\n",
    "plt.plot(hist.history['val_loss'])\n",
    "plt.title('Model loss')\n",
    "plt.ylabel('Loss')\n",
    "plt.xlabel('Epoch')\n",
    "plt.legend(['Train', 'Val'], loc='upper right')\n",
    "plt.show()"
   ]
  }
 ],
 "metadata": {
  "interpreter": {
   "hash": "bc9e34b910df2f9323ef8b28b1d04a2b1295835f4f9a5ba87171178ee9709dcd"
  },
  "kernelspec": {
   "display_name": "Python 3.9.7 ('base')",
   "language": "python",
   "name": "python3"
  },
  "language_info": {
   "codemirror_mode": {
    "name": "ipython",
    "version": 3
   },
   "file_extension": ".py",
   "mimetype": "text/x-python",
   "name": "python",
   "nbconvert_exporter": "python",
   "pygments_lexer": "ipython3",
   "version": "3.9.7"
  },
  "orig_nbformat": 4
 },
 "nbformat": 4,
 "nbformat_minor": 2
}
